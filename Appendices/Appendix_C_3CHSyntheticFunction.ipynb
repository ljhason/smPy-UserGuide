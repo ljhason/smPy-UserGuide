{
 "cells": [
  {
   "cell_type": "markdown",
   "metadata": {},
   "source": [
    "# Function to generate a synthetic 3CH pma file from a 2CH pma file"
   ]
  },
  {
   "cell_type": "code",
   "execution_count": 1,
   "metadata": {},
   "outputs": [],
   "source": [
    "import sys\n",
    "import struct\n",
    "sys.path.append('../')\n",
    "from smpy import *\n",
    "\n",
    "def synthetic_3CH_pma(orig_pma_file_path, new_pma_file_path):\n",
    "    \"\"\"\n",
    "    Takes a 2-channel PMA file, creates and saves a synthetic 3-channel PMA file.\n",
    "    \"\"\"\n",
    "    try:\n",
    "        with open(orig_pma_file_path, \"rb\") as f:\n",
    "            X_pixels, Y_pixels = struct.unpack(\"<HH\", f.read(4))\n",
    "            print(f\"Image Size: {X_pixels} x {Y_pixels}\")\n",
    "            f.seek(0, 2) \n",
    "            filesize = f.tell()\n",
    "            Nframes = (filesize - 4) // (X_pixels * Y_pixels)\n",
    "            f.seek(4) \n",
    "            Frames_data_2CH = [np.frombuffer(f.read(X_pixels*Y_pixels), dtype=np.uint8).reshape((Y_pixels, X_pixels)) for frame_idx in range(Nframes)]\n",
    "        \n",
    "        Frames_data_3CH = []\n",
    "        for frame_idx in range(Nframes):\n",
    "            new_frame = np.zeros((Y_pixels, X_pixels), dtype=np.uint8)\n",
    "            new_frame[:, :171] = Frames_data_2CH[frame_idx][:, :171]\n",
    "            new_frame[:, 171:342] = Frames_data_2CH[frame_idx][:, 256:427]\n",
    "            new_frame[:, 342:] = Frames_data_2CH[frame_idx][:, 256:426]\n",
    "            Frames_data_3CH.append(new_frame)\n",
    "\n",
    "        with open(new_pma_file_path, \"wb\") as f_out:\n",
    "            f_out.write(struct.pack(\"<HH\", X_pixels, Y_pixels))\n",
    "            for frame in Frames_data_3CH:\n",
    "                f_out.write(frame.astype(np.uint8).tobytes())\n",
    "        print(f\"Synthetic 3-channel PMA file sucessfully saved as {new_pma_file_path}\")\n",
    "\n",
    "    except Exception as e:\n",
    "        print(f\"Error reading .pma file: {e}\")\n",
    "        return None\n",
    "\n"
   ]
  }
 ],
 "metadata": {
  "kernelspec": {
   "display_name": "smpy_env",
   "language": "python",
   "name": "python3"
  },
  "language_info": {
   "codemirror_mode": {
    "name": "ipython",
    "version": 3
   },
   "file_extension": ".py",
   "mimetype": "text/x-python",
   "name": "python",
   "nbconvert_exporter": "python",
   "pygments_lexer": "ipython3",
   "version": "3.11.7"
  }
 },
 "nbformat": 4,
 "nbformat_minor": 2
}
